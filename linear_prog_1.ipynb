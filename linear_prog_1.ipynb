{
  "nbformat": 4,
  "nbformat_minor": 0,
  "metadata": {
    "colab": {
      "provenance": [],
      "authorship_tag": "ABX9TyNH1UBMbLY7RSpzivT/U/DP",
      "include_colab_link": true
    },
    "kernelspec": {
      "name": "python3",
      "display_name": "Python 3"
    },
    "language_info": {
      "name": "python"
    }
  },
  "cells": [
    {
      "cell_type": "markdown",
      "metadata": {
        "id": "view-in-github",
        "colab_type": "text"
      },
      "source": [
        "<a href=\"https://colab.research.google.com/github/prachigupta126/Credit_card_default_report/blob/master/linear_prog_1.ipynb\" target=\"_parent\"><img src=\"https://colab.research.google.com/assets/colab-badge.svg\" alt=\"Open In Colab\"/></a>"
      ]
    },
    {
      "cell_type": "code",
      "execution_count": 21,
      "metadata": {
        "colab": {
          "base_uri": "https://localhost:8080/"
        },
        "id": "orExqo4OMEIZ",
        "outputId": "ce4740c1-9f67-4f26-e98d-4e3ee7d60853"
      },
      "outputs": [
        {
          "output_type": "stream",
          "name": "stdout",
          "text": [
            "Requirement already satisfied: pyomo in /usr/local/lib/python3.11/dist-packages (6.9.2)\n",
            "Requirement already satisfied: ply in /usr/local/lib/python3.11/dist-packages (from pyomo) (3.11)\n"
          ]
        }
      ],
      "source": [
        "!pip install pyomo\n",
        "!apt-get install -y -qq glpk-utils"
      ]
    },
    {
      "cell_type": "code",
      "source": [
        "import pyomo.environ as pyo\n",
        "from pyomo.opt import SolverFactory"
      ],
      "metadata": {
        "id": "alpTHJ6EMQON"
      },
      "execution_count": 22,
      "outputs": []
    },
    {
      "cell_type": "code",
      "source": [
        "# define the variable\n",
        "model = pyo.ConcreteModel()"
      ],
      "metadata": {
        "id": "yfA_7oYxMmyA"
      },
      "execution_count": 23,
      "outputs": []
    },
    {
      "cell_type": "code",
      "source": [
        "# decision variable\n",
        "model.x1 = pyo.Var(within=pyo.NonNegativeReals)\n",
        "x1 = model.x1\n",
        "model.x2 = pyo.Var(within=pyo.NonNegativeReals)\n",
        "x2 = model.x2"
      ],
      "metadata": {
        "id": "nenvzDaBNCRk"
      },
      "execution_count": 24,
      "outputs": []
    },
    {
      "cell_type": "code",
      "source": [
        "# objective function\n",
        "model.obj= pyo.Objective(expr= 4*x1 + 3*x2, sense=pyo.maximize)"
      ],
      "metadata": {
        "id": "20yrjJDiNkrp"
      },
      "execution_count": 25,
      "outputs": []
    },
    {
      "cell_type": "code",
      "source": [
        "#constrains\n",
        "model.con1 = pyo.Constraint(expr= x1 + x2 <= 40)\n",
        "model.con2 = pyo.Constraint(expr= 2*x1 + 1*x2 <= 60)"
      ],
      "metadata": {
        "id": "eUdrTavgNsey"
      },
      "execution_count": 26,
      "outputs": []
    },
    {
      "cell_type": "code",
      "source": [
        "optm= SolverFactory('glpk')\n",
        "results = optm.solve(model)"
      ],
      "metadata": {
        "id": "zBTIU4OIN9Bk"
      },
      "execution_count": 27,
      "outputs": []
    },
    {
      "cell_type": "code",
      "source": [
        "print(results)\n",
        "print('obj', model.obj())\n",
        "print('x1', model.x1())\n",
        "print('x2', model.x2())"
      ],
      "metadata": {
        "colab": {
          "base_uri": "https://localhost:8080/"
        },
        "id": "zg84PROYOGxH",
        "outputId": "f8250a61-43ef-481b-f25f-4d0aae126eb4"
      },
      "execution_count": 28,
      "outputs": [
        {
          "output_type": "stream",
          "name": "stdout",
          "text": [
            "\n",
            "Problem: \n",
            "- Name: unknown\n",
            "  Lower bound: 140.0\n",
            "  Upper bound: 140.0\n",
            "  Number of objectives: 1\n",
            "  Number of constraints: 2\n",
            "  Number of variables: 2\n",
            "  Number of nonzeros: 4\n",
            "  Sense: maximize\n",
            "Solver: \n",
            "- Status: ok\n",
            "  Termination condition: optimal\n",
            "  Statistics: \n",
            "    Branch and bound: \n",
            "      Number of bounded subproblems: 0\n",
            "      Number of created subproblems: 0\n",
            "  Error rc: 0\n",
            "  Time: 0.010209798812866211\n",
            "Solution: \n",
            "- number of solutions: 0\n",
            "  number of solutions displayed: 0\n",
            "\n",
            "obj 140.0\n",
            "x1 20.0\n",
            "x2 20.0\n"
          ]
        }
      ]
    },
    {
      "cell_type": "code",
      "source": [],
      "metadata": {
        "id": "VnUaHGjtO0IM"
      },
      "execution_count": null,
      "outputs": []
    }
  ]
}